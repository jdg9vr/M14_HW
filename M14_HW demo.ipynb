{
 "cells": [
  {
   "cell_type": "markdown",
   "id": "bbea800c-241d-42b4-a744-ecaffe13959e",
   "metadata": {},
   "source": [
    "# Metadata\n",
    "\n",
    "```yaml\n",
    "Course:  DS 5100\n",
    "Module:  14 Python Packages\n",
    "Topic:   HW Package Booklover\n",
    "Author:  R.C. Alvarado\n",
    "Date:    11 July 2022\n",
    "```"
   ]
  },
  {
   "cell_type": "markdown",
   "id": "31c46810-4227-4657-8b67-29c43de618ea",
   "metadata": {},
   "source": [
    "# Student Metadata\n",
    "\n",
    "* Name: Josh Gen\n",
    "* NetID: jdg9vr"
   ]
  },
  {
   "cell_type": "markdown",
   "id": "1baf08dc-35fe-44f1-bc26-7e1130ee993e",
   "metadata": {},
   "source": [
    "# Instructions\n",
    "\n",
    "Follow the recipe we used in class to package the code you wrote for `HW09` -- `booklover.py` and `booklover_test.py`.\n",
    "\n",
    "Here is the recipe:\n",
    "* Create a new git repo for your package.\n",
    "* Create and edit the required files and directories for your package and move the booklover modules there.\n",
    "* Stage, commit, and push all the files you've created.\n",
    "* Install your package with pip.\n",
    "* Outside of your package dir, write a script to test your method.\n",
    "\n",
    "Put this notebook in your repo. This will allow you to execute bash commands and capture the outpunt directly in the notebook.\n",
    "\n",
    "**TOTAL: 8 POINTS**"
   ]
  },
  {
   "cell_type": "markdown",
   "id": "6e39ba79-49ee-41e8-9e49-23d9d6bac2e0",
   "metadata": {
    "tags": []
   },
   "source": [
    "# Q1\n",
    "\n",
    "(5 points)\n",
    "\n",
    "Show the directory structure of your repo by running this command from the root of your repo:"
   ]
  },
  {
   "cell_type": "code",
   "execution_count": 1,
   "id": "7e6c6607",
   "metadata": {},
   "outputs": [
    {
     "name": "stdout",
     "output_type": "stream",
     "text": [
      "total 40\n",
      "-rw-r--r--  1 joshgen  staff  1065 Jul 11 11:22 LICENSE\n",
      "-rw-r--r--@ 1 joshgen  staff  7734 Jul 11 13:22 M14_HW demo.ipynb\n",
      "drwxr-xr-x@ 6 joshgen  staff   192 Jul 11 11:34 \u001b[34mM14_HW.egg-info\u001b[m\u001b[m\n",
      "drwxr-xr-x@ 6 joshgen  staff   192 Jul 11 12:41 \u001b[34mM14_HW_mods\u001b[m\u001b[m\n",
      "drwxr-xr-x@ 6 joshgen  staff   192 Jul 11 12:43 \u001b[34mM14_HW_mods.egg-info\u001b[m\u001b[m\n",
      "-rw-r--r--  1 joshgen  staff    45 Jul 11 11:22 README.md\n",
      "-rw-r--r--  1 joshgen  staff   282 Jul 11 13:26 setup.py\n",
      "\n",
      "./M14_HW.egg-info:\n",
      "total 32\n",
      "-rw-r--r--  1 joshgen  staff  215 Jul 11 12:30 PKG-INFO\n",
      "-rw-r--r--  1 joshgen  staff  210 Jul 11 12:30 SOURCES.txt\n",
      "-rw-r--r--  1 joshgen  staff    1 Jul 11 12:30 dependency_links.txt\n",
      "-rw-r--r--  1 joshgen  staff    7 Jul 11 12:30 top_level.txt\n",
      "\n",
      "./M14_HW_mods:\n",
      "total 24\n",
      "-rw-r--r--  1 joshgen  staff    25 Jul 11 12:39 __init__.py\n",
      "drwxr-xr-x@ 4 joshgen  staff   128 Jul 11 12:41 \u001b[34m__pycache__\u001b[m\u001b[m\n",
      "-rw-r--r--@ 1 joshgen  staff   937 Jul 11 12:39 booklover.py\n",
      "-rw-r--r--  1 joshgen  staff  2601 Jul 11 12:39 booklover_test.py\n",
      "\n",
      "./M14_HW_mods/__pycache__:\n",
      "total 16\n",
      "-rw-r--r--  1 joshgen  staff   187 Jul 11 12:41 __init__.cpython-310.pyc\n",
      "-rw-r--r--  1 joshgen  staff  1407 Jul 11 12:41 booklover.cpython-310.pyc\n",
      "\n",
      "./M14_HW_mods.egg-info:\n",
      "total 32\n",
      "-rw-r--r--  1 joshgen  staff  220 Jul 11 12:43 PKG-INFO\n",
      "-rw-r--r--  1 joshgen  staff  245 Jul 11 12:43 SOURCES.txt\n",
      "-rw-r--r--  1 joshgen  staff    1 Jul 11 12:43 dependency_links.txt\n",
      "-rw-r--r--  1 joshgen  staff   12 Jul 11 12:43 top_level.txt\n"
     ]
    }
   ],
   "source": [
    "!ls -lR"
   ]
  },
  {
   "cell_type": "markdown",
   "id": "6b6f288b-05aa-441b-8c73-84b50b3b6844",
   "metadata": {},
   "source": [
    "# Q2\n",
    "\n",
    "(1 point)\n",
    "\n",
    "Put the URL of your GitHub repo here. Just paste it into a Markdown cell."
   ]
  },
  {
   "cell_type": "markdown",
   "id": "4d09d889-6104-4f20-b31c-2d8a72b17693",
   "metadata": {},
   "source": [
    "URL: https://github.com/jdg9vr/M14_HW"
   ]
  },
  {
   "cell_type": "markdown",
   "id": "f989dcd1-b1d2-4eb9-8ef6-8ca2d8495260",
   "metadata": {
    "lines_to_next_cell": 0
   },
   "source": [
    "# Q3\n",
    "\n",
    "(1 point)\n",
    "\n",
    "Show the results of installing your package.\n",
    "\n",
    "```bash\n",
    "!pip install -e .\n",
    "```"
   ]
  },
  {
   "cell_type": "code",
   "execution_count": 2,
   "id": "a9556ecc",
   "metadata": {},
   "outputs": [
    {
     "name": "stdout",
     "output_type": "stream",
     "text": [
      "\u001b[33mDEPRECATION: Configuring installation scheme with distutils config files is deprecated and will no longer work in the near future. If you are using a Homebrew or Linuxbrew Python, please see discussion at https://github.com/Homebrew/homebrew-core/issues/76621\u001b[0m\u001b[33m\n",
      "\u001b[0mObtaining file:///Users/joshgen/Documents/Code/MSDS/M14_HW\n",
      "  Preparing metadata (setup.py) ... \u001b[?25ldone\n",
      "\u001b[?25hInstalling collected packages: M14-HW\n",
      "  Attempting uninstall: M14-HW\n",
      "    Found existing installation: M14-HW 0.1\n",
      "    Uninstalling M14-HW-0.1:\n",
      "      Successfully uninstalled M14-HW-0.1\n",
      "\u001b[33m  DEPRECATION: Configuring installation scheme with distutils config files is deprecated and will no longer work in the near future. If you are using a Homebrew or Linuxbrew Python, please see discussion at https://github.com/Homebrew/homebrew-core/issues/76621\u001b[0m\u001b[33m\n",
      "\u001b[0m  Running setup.py develop for M14-HW\n",
      "Successfully installed M14-HW-0.1\n",
      "\u001b[33mWARNING: There was an error checking the latest version of pip.\u001b[0m\u001b[33m\n",
      "\u001b[0m"
     ]
    }
   ],
   "source": [
    "!pip3 install -e ."
   ]
  },
  {
   "cell_type": "markdown",
   "id": "5b1a642e-74f0-43ff-97a3-9ddc7553978e",
   "metadata": {},
   "source": [
    "# Q4\n",
    "\n",
    "(1 point)\n",
    "\n",
    "Create a file outside your repo (one level up) to test your package.\n",
    "\n",
    "Import the package and run it. Specifically, create a BookLover object, add a book, and then print number books read.\n",
    "\n",
    "Show the output of running the file below, using a command like the following:\n",
    "\n",
    "```bash\n",
    "!python ../book_lover_demo.py\n",
    "```"
   ]
  },
  {
   "cell_type": "code",
   "execution_count": 1,
   "id": "5924fca8-6483-4f2b-a33f-6550d1726d6e",
   "metadata": {},
   "outputs": [
    {
     "name": "stdout",
     "output_type": "stream",
     "text": [
      "Package loaded!\n",
      "/Users/joshgen/Documents/Code/MSDS/M14_HW/M14_HW_mods/booklover.py:12: FutureWarning: elementwise comparison failed; returning scalar instead, but in the future will perform elementwise comparison\n",
      "  return book_name in self.book_list.book_name.values\n",
      "1\n"
     ]
    }
   ],
   "source": [
    "!python3 ../book_lover_demo.py"
   ]
  }
 ],
 "metadata": {
  "jupytext": {
   "cell_metadata_filter": "-all",
   "main_language": "bash",
   "notebook_metadata_filter": "-all"
  },
  "kernelspec": {
   "display_name": "Python 3 (ipykernel)",
   "language": "python",
   "name": "python3"
  },
  "language_info": {
   "codemirror_mode": {
    "name": "ipython",
    "version": 3
   },
   "file_extension": ".py",
   "mimetype": "text/x-python",
   "name": "python",
   "nbconvert_exporter": "python",
   "pygments_lexer": "ipython3",
   "version": "3.10.4"
  },
  "vscode": {
   "interpreter": {
    "hash": "aee8b7b246df8f9039afb4144a1f6fd8d2ca17a180786b69acc140d282b71a49"
   }
  },
  "widgets": {
   "application/vnd.jupyter.widget-state+json": {
    "state": {},
    "version_major": 2,
    "version_minor": 0
   }
  }
 },
 "nbformat": 4,
 "nbformat_minor": 5
}
